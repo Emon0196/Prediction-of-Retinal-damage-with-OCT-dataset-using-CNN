{
  "nbformat": 4,
  "nbformat_minor": 0,
  "metadata": {
    "colab": {
      "provenance": [],
      "authorship_tag": "ABX9TyNi5FENeNvzK/gVhk+Ge4Yl",
      "include_colab_link": true
    },
    "kernelspec": {
      "name": "python3",
      "display_name": "Python 3"
    },
    "language_info": {
      "name": "python"
    }
  },
  "cells": [
    {
      "cell_type": "markdown",
      "metadata": {
        "id": "view-in-github",
        "colab_type": "text"
      },
      "source": [
        "<a href=\"https://colab.research.google.com/github/Emon0196/Prediction-of-Retinal-damage-with-OCT-dataset-using-CNN/blob/main/422_project.ipynb\" target=\"_parent\"><img src=\"https://colab.research.google.com/assets/colab-badge.svg\" alt=\"Open In Colab\"/></a>"
      ]
    },
    {
      "cell_type": "code",
      "execution_count": 1,
      "metadata": {
        "id": "Y-fqrAXkmmyq"
      },
      "outputs": [],
      "source": [
        "import tensorflow as tf"
      ]
    },
    {
      "cell_type": "code",
      "source": [
        "import numpy as np\n",
        "import cv2\n",
        "import os\n",
        "from sklearn.model_selection import train_test_split\n",
        "import matplotlib.pyplot as plt\n",
        "from tensorflow.keras.preprocessing.image import ImageDataGenerator\n",
        "from tensorflow.keras.utils import to_categorical\n",
        "from tensorflow.keras.models import Sequential\n",
        "from tensorflow.keras.layers import Dense, Dropout, Flatten\n",
        "from tensorflow.keras.layers import Conv2D, MaxPooling2D\n",
        "from tensorflow.keras.optimizers import Adam\n",
        "import pickle\n",
        "from sklearn.svm import SVC\n",
        "from sklearn.metrics import accuracy_score\n"
      ],
      "metadata": {
        "id": "4PdGphGzunMX"
      },
      "execution_count": 2,
      "outputs": []
    },
    {
      "cell_type": "code",
      "source": [
        "pip install matplotlib\n"
      ],
      "metadata": {
        "colab": {
          "base_uri": "https://localhost:8080/"
        },
        "id": "7UmRPBe-pyDO",
        "outputId": "64eac18a-5490-40f5-8a2e-aea44b110291"
      },
      "execution_count": 3,
      "outputs": [
        {
          "output_type": "stream",
          "name": "stdout",
          "text": [
            "Requirement already satisfied: matplotlib in /usr/local/lib/python3.10/dist-packages (3.7.1)\n",
            "Requirement already satisfied: contourpy>=1.0.1 in /usr/local/lib/python3.10/dist-packages (from matplotlib) (1.2.0)\n",
            "Requirement already satisfied: cycler>=0.10 in /usr/local/lib/python3.10/dist-packages (from matplotlib) (0.12.1)\n",
            "Requirement already satisfied: fonttools>=4.22.0 in /usr/local/lib/python3.10/dist-packages (from matplotlib) (4.50.0)\n",
            "Requirement already satisfied: kiwisolver>=1.0.1 in /usr/local/lib/python3.10/dist-packages (from matplotlib) (1.4.5)\n",
            "Requirement already satisfied: numpy>=1.20 in /usr/local/lib/python3.10/dist-packages (from matplotlib) (1.25.2)\n",
            "Requirement already satisfied: packaging>=20.0 in /usr/local/lib/python3.10/dist-packages (from matplotlib) (24.0)\n",
            "Requirement already satisfied: pillow>=6.2.0 in /usr/local/lib/python3.10/dist-packages (from matplotlib) (9.4.0)\n",
            "Requirement already satisfied: pyparsing>=2.3.1 in /usr/local/lib/python3.10/dist-packages (from matplotlib) (3.1.2)\n",
            "Requirement already satisfied: python-dateutil>=2.7 in /usr/local/lib/python3.10/dist-packages (from matplotlib) (2.8.2)\n",
            "Requirement already satisfied: six>=1.5 in /usr/local/lib/python3.10/dist-packages (from python-dateutil>=2.7->matplotlib) (1.16.0)\n"
          ]
        }
      ]
    },
    {
      "cell_type": "code",
      "source": [
        "from google.colab import drive\n",
        "drive.mount('/content/drive/')"
      ],
      "metadata": {
        "colab": {
          "base_uri": "https://localhost:8080/"
        },
        "id": "IiisneRqJwFu",
        "outputId": "a9cc3743-8445-420f-97a7-cfdc2851a444"
      },
      "execution_count": 4,
      "outputs": [
        {
          "output_type": "stream",
          "name": "stdout",
          "text": [
            "Mounted at /content/drive/\n"
          ]
        }
      ]
    },
    {
      "cell_type": "code",
      "source": [
        "path1 =\"/content/drive/MyDrive/CSE422/OCT dataset 2/train\"\n",
        "path2 =\"/content/drive/MyDrive/CSE422/OCT dataset 2/test\"\n",
        "path3 =\"/content/drive/MyDrive/CSE422/OCT dataset 2/val\"\n",
        "test_ratio=0.2\n",
        "val_ratio=0.2\n",
        "image_size=(128,128,3)"
      ],
      "metadata": {
        "id": "vMOziTLIm850"
      },
      "execution_count": 5,
      "outputs": []
    },
    {
      "cell_type": "code",
      "source": [
        "myList = os.listdir(path1)\n",
        "print(\"Total Number of Classes Detected :\",len(myList))"
      ],
      "metadata": {
        "colab": {
          "base_uri": "https://localhost:8080/"
        },
        "id": "sIw7OsMIm_Fc",
        "outputId": "4b5f5adc-cfbb-4953-cd80-b687d24640bf"
      },
      "execution_count": 6,
      "outputs": [
        {
          "output_type": "stream",
          "name": "stdout",
          "text": [
            "Total Number of Classes Detected : 4\n"
          ]
        }
      ]
    },
    {
      "cell_type": "code",
      "source": [
        "noOfclasses= len(myList)"
      ],
      "metadata": {
        "id": "7QsX2CH_xwi3"
      },
      "execution_count": 7,
      "outputs": []
    },
    {
      "cell_type": "code",
      "source": [
        "print(myList)"
      ],
      "metadata": {
        "colab": {
          "base_uri": "https://localhost:8080/"
        },
        "id": "6yb92KR0xx1G",
        "outputId": "6f7994f1-83a3-47de-c841-81915a300d16"
      },
      "execution_count": 8,
      "outputs": [
        {
          "output_type": "stream",
          "name": "stdout",
          "text": [
            "['DRUSEN', 'NORMAL', 'DME', 'CNV']\n"
          ]
        }
      ]
    },
    {
      "cell_type": "code",
      "source": [
        "print(\"Importing Classes...\")"
      ],
      "metadata": {
        "colab": {
          "base_uri": "https://localhost:8080/"
        },
        "id": "AQ4xGXXvxz8O",
        "outputId": "190ae4ea-7ae6-4fc7-c8f4-18e2990d8d26"
      },
      "execution_count": 9,
      "outputs": [
        {
          "output_type": "stream",
          "name": "stdout",
          "text": [
            "Importing Classes...\n"
          ]
        }
      ]
    },
    {
      "cell_type": "code",
      "source": [
        "images=[]\n",
        "classNo=[]\n",
        "CATEGORIES = ['NORMAL',\"CNV\",\"DME\",\"DRUSEN\"]\n",
        "for x in myList:\n",
        "  myPicList = os.listdir(path1+\"/\"+str(x))\n",
        "  for y in myPicList:\n",
        "    curImg = cv2.imread(path1+\"/\"+str(x)+\"/\"+y)\n",
        "    curImg = cv2.resize(curImg,(image_size[0],image_size[1]))\n",
        "    images.append(curImg)\n",
        "    classNo.append(CATEGORIES.index(x))\n",
        "  print(x,end=\" \")"
      ],
      "metadata": {
        "colab": {
          "base_uri": "https://localhost:8080/"
        },
        "id": "MKhT_kTux0Y9",
        "outputId": "8203d332-d25e-4dd6-9c4c-2710755214fd"
      },
      "execution_count": 10,
      "outputs": [
        {
          "output_type": "stream",
          "name": "stdout",
          "text": [
            "DRUSEN NORMAL DME CNV "
          ]
        }
      ]
    },
    {
      "cell_type": "code",
      "source": [
        "x_test=[]\n",
        "y_test=[]\n",
        "CATEGORIES = ['NORMAL',\"CNV\",\"DME\",\"DRUSEN\"]\n",
        "for x in myList:\n",
        "  myPicList = os.listdir(path2+\"/\"+str(x))\n",
        "  for y in myPicList:\n",
        "    curImg = cv2.imread(path2+\"/\"+str(x)+\"/\"+y)\n",
        "    curImg = cv2.resize(curImg,(image_size[0],image_size[1]))\n",
        "    x_test.append(curImg)\n",
        "    y_test.append(CATEGORIES.index(x))\n",
        "  print(x,end=\" \")"
      ],
      "metadata": {
        "colab": {
          "base_uri": "https://localhost:8080/"
        },
        "id": "bRYXMqSIx2tG",
        "outputId": "518d88c6-dfdd-47a8-982c-d98fba564d90"
      },
      "execution_count": 11,
      "outputs": [
        {
          "output_type": "stream",
          "name": "stdout",
          "text": [
            "DRUSEN NORMAL DME CNV "
          ]
        }
      ]
    },
    {
      "cell_type": "code",
      "source": [
        "x_val=[]\n",
        "y_val=[]\n",
        "CATEGORIES = ['NORMAL',\"CNV\",\"DME\",\"DRUSEN\"]\n",
        "for x in myList:\n",
        "  myPicList = os.listdir(path3+\"/\"+str(x))\n",
        "  for y in myPicList:\n",
        "    curImg = cv2.imread(path3+\"/\"+str(x)+\"/\"+y)\n",
        "    curImg = cv2.resize(curImg,(image_size[0],image_size[1]))\n",
        "    x_val.append(curImg)\n",
        "    y_val.append(CATEGORIES.index(x))\n",
        "  print(x,end=\" \")"
      ],
      "metadata": {
        "colab": {
          "base_uri": "https://localhost:8080/"
        },
        "id": "gYCtwKBrx5B-",
        "outputId": "2928b55d-e96d-4bee-a9e1-8aab6adf32ce"
      },
      "execution_count": 12,
      "outputs": [
        {
          "output_type": "stream",
          "name": "stdout",
          "text": [
            "DRUSEN NORMAL DME CNV "
          ]
        }
      ]
    },
    {
      "cell_type": "code",
      "source": [
        "print(len(images))\n",
        "print(len(classNo))"
      ],
      "metadata": {
        "colab": {
          "base_uri": "https://localhost:8080/"
        },
        "id": "A_HzFiVVx6p2",
        "outputId": "79e2714c-fc71-4a7a-b6e1-211b0cdda6b1"
      },
      "execution_count": 13,
      "outputs": [
        {
          "output_type": "stream",
          "name": "stdout",
          "text": [
            "5133\n",
            "5133\n"
          ]
        }
      ]
    },
    {
      "cell_type": "code",
      "source": [
        "x_train = np.array(images)\n",
        "y_train = np.array(classNo)"
      ],
      "metadata": {
        "id": "wjXSm969x84u"
      },
      "execution_count": 14,
      "outputs": []
    },
    {
      "cell_type": "code",
      "source": [
        "x_test = np.array(x_test)\n",
        "y_test = np.array(y_test)\n",
        "x_val = np.array(x_val)\n",
        "y_val = np.array(y_val)"
      ],
      "metadata": {
        "id": "_rDfEfkjx-Lu"
      },
      "execution_count": 15,
      "outputs": []
    },
    {
      "cell_type": "code",
      "source": [
        "print(x_train.shape)\n",
        "print(x_test.shape)"
      ],
      "metadata": {
        "id": "SWpH24XNx_sO",
        "colab": {
          "base_uri": "https://localhost:8080/"
        },
        "outputId": "28da569c-df37-45c1-bba8-c340508dd95a"
      },
      "execution_count": 16,
      "outputs": [
        {
          "output_type": "stream",
          "name": "stdout",
          "text": [
            "(5133, 128, 128, 3)\n",
            "(968, 128, 128, 3)\n"
          ]
        }
      ]
    },
    {
      "cell_type": "code",
      "source": [
        "del images\n",
        "del classNo"
      ],
      "metadata": {
        "id": "Sn6z03k_yBEW"
      },
      "execution_count": 17,
      "outputs": []
    },
    {
      "cell_type": "code",
      "source": [
        "print(x_train.shape)\n",
        "print(x_test.shape)\n",
        "print(x_val.shape)"
      ],
      "metadata": {
        "colab": {
          "base_uri": "https://localhost:8080/"
        },
        "id": "dZNq_nEfyDxO",
        "outputId": "dee3d35c-6328-4527-8614-c54569cb8383"
      },
      "execution_count": 18,
      "outputs": [
        {
          "output_type": "stream",
          "name": "stdout",
          "text": [
            "(5133, 128, 128, 3)\n",
            "(968, 128, 128, 3)\n",
            "(32, 128, 128, 3)\n"
          ]
        }
      ]
    },
    {
      "cell_type": "code",
      "source": [
        "numofSamples=[]\n",
        "for x in range(0,noOfclasses):\n",
        "  numofSamples.append(len(np.where(y_train==x)[0]))"
      ],
      "metadata": {
        "id": "zR9QHPKfyFie"
      },
      "execution_count": 19,
      "outputs": []
    },
    {
      "cell_type": "code",
      "source": [
        "print(numofSamples)"
      ],
      "metadata": {
        "colab": {
          "base_uri": "https://localhost:8080/"
        },
        "id": "4hquZDvNyGAu",
        "outputId": "e21644a4-1e48-4297-fe4e-e08353b16090"
      },
      "execution_count": 20,
      "outputs": [
        {
          "output_type": "stream",
          "name": "stdout",
          "text": [
            "[1495, 2291, 805, 542]\n"
          ]
        }
      ]
    },
    {
      "cell_type": "code",
      "source": [
        "plt.figure(figsize=(10,5))\n",
        "plt.bar(range(0,noOfclasses),numofSamples)\n",
        "plt.title('No of Images for each Class')\n",
        "plt.xlabel(\"Class ID\")\n",
        "plt.ylabel(\"No of Images\")\n",
        "plt.show()"
      ],
      "metadata": {
        "colab": {
          "base_uri": "https://localhost:8080/",
          "height": 487
        },
        "id": "gtIcXH4fyHEm",
        "outputId": "4c10d0d4-713b-4c35-94db-88a7b44c5d16"
      },
      "execution_count": 24,
      "outputs": [
        {
          "output_type": "display_data",
          "data": {
            "text/plain": [
              "<Figure size 1000x500 with 1 Axes>"
            ],
            "image/png": "[encoded data removed]"
          },
          "metadata": {}
        }
      ]
    },
    {
      "cell_type": "code",
      "source": [
        "from imblearn.under_sampling import RandomUnderSampler\n",
        "import pandas as pd\n",
        "import seaborn as sns\n",
        "X_trainShape = x_train.shape[1]*x_train.shape[2]*x_train.shape[3]\n",
        "X_trainFlat = x_train.reshape(x_train.shape[0], X_trainShape)\n",
        "Y_train = y_train\n",
        "ros = RandomUnderSampler()\n",
        "X_trainRos, Y_trainRos = ros.fit_resample(X_trainFlat, Y_train)\n",
        "# Encode labels to hot vectors (ex : 2 -> [0,0,1,0,0,0,0,0,0,0])\n",
        "Y_trainRosHot = to_categorical(Y_trainRos, num_classes = 4)\n",
        "# Make Data 2D again\n",
        "for i in range(len(X_trainRos)):\n",
        "    height, width, channels = image_size[0],image_size[1],3\n",
        "    X_trainRosReshaped = X_trainRos.reshape(len(X_trainRos),height,width,channels)\n",
        "# Plot Label Distribution\n",
        "dfRos = pd.DataFrame()\n",
        "dfRos[\"labels\"]=Y_trainRos\n",
        "labRos = dfRos['labels']\n",
        "sns.countplot(labRos)"
      ],
      "metadata": {
        "colab": {
          "base_uri": "https://localhost:8080/",
          "height": 447
        },
        "id": "k3oMWD8EyIfW",
        "outputId": "560d6abe-36cb-4b91-ebc4-b69489261806"
      },
      "execution_count": 23,
      "outputs": [
        {
          "output_type": "execute_result",
          "data": {
            "text/plain": [
              "<Axes: ylabel='count'>"
            ]
          },
          "metadata": {},
          "execution_count": 23
        },
        {
          "output_type": "display_data",
          "data": {
            "text/plain": [
              "<Figure size 640x480 with 1 Axes>"
            ],
            "image/png": "[encoded data removed]"
          },
          "metadata": {}
        }
      ]
    },
    {
      "cell_type": "code",
      "source": [
        "def preProcessing(img):\n",
        "    img = cv2.cvtColor(img,cv2.COLOR_BGR2GRAY)\n",
        "    return img"
      ],
      "metadata": {
        "id": "nn279UAyyLzG"
      },
      "execution_count": 25,
      "outputs": []
    },
    {
      "cell_type": "code",
      "source": [
        "del x_train\n",
        "del y_train"
      ],
      "metadata": {
        "id": "Vus9XeATyPB2"
      },
      "execution_count": 26,
      "outputs": []
    },
    {
      "cell_type": "code",
      "source": [
        "x_train = np.array(list(map(preProcessing,X_trainRosReshaped)))\n",
        "print(x_train[0].shape)"
      ],
      "metadata": {
        "colab": {
          "base_uri": "https://localhost:8080/"
        },
        "id": "KmuacwrwyTnF",
        "outputId": "3badd5ff-516e-4654-e087-9575f0a9b2cc"
      },
      "execution_count": 27,
      "outputs": [
        {
          "output_type": "stream",
          "name": "stdout",
          "text": [
            "(128, 128)\n"
          ]
        }
      ]
    },
    {
      "cell_type": "code",
      "source": [
        "x_test = np.array(list(map(preProcessing,x_test)))\n",
        "print(x_test[0].shape)"
      ],
      "metadata": {
        "id": "v9Y_t22YzAgu",
        "colab": {
          "base_uri": "https://localhost:8080/"
        },
        "outputId": "c294d3aa-b482-4b8e-b273-d41de39f0e39"
      },
      "execution_count": 28,
      "outputs": [
        {
          "output_type": "stream",
          "name": "stdout",
          "text": [
            "(128, 128)\n"
          ]
        }
      ]
    },
    {
      "cell_type": "code",
      "source": [
        "x_validation = np.array(list(map(preProcessing,x_val)))\n",
        "print(x_validation[0].shape)"
      ],
      "metadata": {
        "id": "RGxyGPD8zDUG",
        "colab": {
          "base_uri": "https://localhost:8080/"
        },
        "outputId": "bc6aa1d2-b238-43d1-b290-b61fbe902a59"
      },
      "execution_count": 29,
      "outputs": [
        {
          "output_type": "stream",
          "name": "stdout",
          "text": [
            "(128, 128)\n"
          ]
        }
      ]
    },
    {
      "cell_type": "code",
      "source": [
        "print(x_train.shape)"
      ],
      "metadata": {
        "id": "yhF3Cwg3zElu",
        "colab": {
          "base_uri": "https://localhost:8080/"
        },
        "outputId": "a3296748-90c0-4cf3-cd3c-3cc7b8a8e4cc"
      },
      "execution_count": 30,
      "outputs": [
        {
          "output_type": "stream",
          "name": "stdout",
          "text": [
            "(2168, 128, 128)\n"
          ]
        }
      ]
    },
    {
      "cell_type": "code",
      "source": [
        "X_train = x_train.reshape(x_train.shape[0],x_train.shape[1],x_train.shape[2],1)\n",
        "print(X_train.shape)"
      ],
      "metadata": {
        "id": "3S5-j0mgzFCu",
        "colab": {
          "base_uri": "https://localhost:8080/"
        },
        "outputId": "44b259ad-74a1-40c7-abe7-c00d8ae59cfb"
      },
      "execution_count": 31,
      "outputs": [
        {
          "output_type": "stream",
          "name": "stdout",
          "text": [
            "(2168, 128, 128, 1)\n"
          ]
        }
      ]
    },
    {
      "cell_type": "code",
      "source": [
        "X_test = x_test.reshape(x_test.shape[0],x_test.shape[1],x_test.shape[2],1)\n",
        "X_validation = x_validation.reshape(x_validation.shape[0],x_validation.shape[1],x_validation.shape[2],1)"
      ],
      "metadata": {
        "id": "CP7zCcSPzQCW"
      },
      "execution_count": 32,
      "outputs": []
    },
    {
      "cell_type": "code",
      "source": [
        "del x_test\n",
        "del x_train\n",
        "del x_validation"
      ],
      "metadata": {
        "id": "XOOPArKgzWgX"
      },
      "execution_count": 33,
      "outputs": []
    },
    {
      "cell_type": "code",
      "source": [
        "y_train = to_categorical(Y_trainRos,noOfclasses)\n",
        "y_test = to_categorical(y_test,noOfclasses)\n",
        "y_validation = to_categorical(y_val,noOfclasses)"
      ],
      "metadata": {
        "id": "xcG_3mOYzXxu"
      },
      "execution_count": 34,
      "outputs": []
    },
    {
      "cell_type": "code",
      "source": [
        "class CustomCallback(tf.keras.callbacks.Callback):\n",
        "  def __init__(self,fraction):\n",
        "    super(CustomCallback,self).__init__()\n",
        "    self.fraction = fraction\n",
        "    self.train_a = [];\n",
        "    self.val_a =[];\n",
        "\n",
        "    with open('log.txt','w') as f:\n",
        "      f.write('Starting of logging..\\n')\n",
        "\n",
        "    self.fig = plt.figure(figsize=(4,3))\n",
        "    self.ax = plt.subplot(1,1,1)\n",
        "    plt.ion()\n",
        "\n",
        "  def on_train_begin(self,logs=None):\n",
        "    self.fig.show()\n",
        "    self.fig.canvas.draw()\n",
        "\n",
        "  def on_train_end(self,logs=None):\n",
        "    with open('log.txt','a') as f:\n",
        "      f.write('End of logging..\\n')\n",
        "  def on_epoch_begin(self,epoch,logs=None):\n",
        "    lr= tf.keras.backend.get_value(self.model.optimizer.lr)\n",
        "    lr *= self.fraction\n",
        "    tf.keras.backend.set_value(self.model.optimizer.lr,lr)\n",
        "    with open('log.txt','a') as f:\n",
        "      f.write('At epoch {:02d}, learning rate changed to {:.4f}\\n'.format(epoch,lr))\n",
        "  def on_epoch_end(self,epoch,logs=None):\n",
        "    val_acc = logs.get('val_accuracy')\n",
        "    train_acc = logs.get('accuracy')\n",
        "    self.train_a.append(train_acc)\n",
        "    self.val_a.append(val_acc)\n",
        "    with open('log.txt','a') as f:\n",
        "        f.write('At epoch {:02d}, training accuracy: {:.3f}, validation accuracy: {:.3f}\\n'.format(epoch,train_acc,val_acc))\n",
        "    self.ax.clear()\n",
        "    self.ax.plot(range(1+epoch),self.train_a,label=\"Training\")\n",
        "    self.ax.plot(range(1+epoch),self.val_a,label=\"Validation\")\n",
        "    self.ax.set_xlabel('Epochs')\n",
        "    self.ax.set_ylabel('Accuracy')\n",
        "    self.ax.legend()\n",
        "    self.fig.canvas.draw()\n",
        "    self.fig.show()"
      ],
      "metadata": {
        "id": "fNwcn0w3zk_-"
      },
      "execution_count": 35,
      "outputs": []
    },
    {
      "cell_type": "code",
      "source": [
        "def model():\n",
        "  filters=60\n",
        "  sizeoffilter1 = (5,5)\n",
        "  sizeoffilter2 = (4,4)\n",
        "  sizeoffilter3 = (3,3)\n",
        "  sizeofpool = (2,2)\n",
        "  node=5000\n",
        "\n",
        "  model = Sequential();\n",
        "  model.add((Conv2D(filters,sizeoffilter1,input_shape=(image_size[0],image_size[1],1)\n",
        "  ,activation=\"relu\")))\n",
        "\n",
        "  model.add((Conv2D(filters,sizeoffilter1,activation=\"relu\")))\n",
        "  model.add((Conv2D(filters//2,sizeoffilter2,activation=\"relu\")))\n",
        "  model.add((Conv2D(filters//2,sizeoffilter2,activation=\"relu\")))\n",
        "  model.add(MaxPooling2D(pool_size=sizeofpool))\n",
        "  model.add(Dropout(0.2))\n",
        "\n",
        "  model.add((Conv2D(filters,sizeoffilter1,activation=\"relu\")))\n",
        "  model.add((Conv2D(filters//2,sizeoffilter2,activation=\"relu\")))\n",
        "  model.add((Conv2D(filters//2,sizeoffilter2,activation=\"relu\")))\n",
        "  model.add(MaxPooling2D(pool_size=sizeofpool))\n",
        "  model.add(Dropout(0.2))\n",
        "\n",
        "  model.add((Conv2D(filters,sizeoffilter2,activation=\"relu\")))\n",
        "  model.add(MaxPooling2D(pool_size=sizeofpool))\n",
        "  model.add((Conv2D(filters//2,sizeoffilter3,activation=\"relu\")))\n",
        "  model.add((Conv2D(filters//2,sizeoffilter3,activation=\"relu\")))\n",
        "  model.add(MaxPooling2D(pool_size=sizeofpool))\n",
        "  model.add(Dropout(0.2))\n",
        "\n",
        "  model.add(Flatten())\n",
        "  model.add(Dense(node,activation=\"relu\"))\n",
        "  model.add(Dropout(0.2))\n",
        "  model.add(Dense(noOfclasses,activation=\"softmax\"))\n",
        "\n",
        "  model.compile(Adam(learning_rate=0.001),loss=\"categorical_crossentropy\",metrics=['accuracy'])\n",
        "\n",
        "  return model\n",
        "\n",
        "model=model()"
      ],
      "metadata": {
        "id": "OndwHyYN0AQl"
      },
      "execution_count": 36,
      "outputs": []
    },
    {
      "cell_type": "code",
      "source": [
        "model.summary()"
      ],
      "metadata": {
        "id": "9JkgHLLd0IRG",
        "colab": {
          "base_uri": "https://localhost:8080/"
        },
        "outputId": "51a3408f-dccf-4f8d-fa0f-35a1ba73cebe"
      },
      "execution_count": 37,
      "outputs": [
        {
          "output_type": "stream",
          "name": "stdout",
          "text": [
            "Model: \"sequential\"\n",
            "_________________________________________________________________\n",
            " Layer (type)                Output Shape              Param #   \n",
            "=================================================================\n",
            " conv2d (Conv2D)             (None, 124, 124, 60)      1560      \n",
            "                                                                 \n",
            " conv2d_1 (Conv2D)           (None, 120, 120, 60)      90060     \n",
            "                                                                 \n",
            " conv2d_2 (Conv2D)           (None, 117, 117, 30)      28830     \n",
            "                                                                 \n",
            " conv2d_3 (Conv2D)           (None, 114, 114, 30)      14430     \n",
            "                                                                 \n",
            " max_pooling2d (MaxPooling2  (None, 57, 57, 30)        0         \n",
            " D)                                                              \n",
            "                                                                 \n",
            " dropout (Dropout)           (None, 57, 57, 30)        0         \n",
            "                                                                 \n",
            " conv2d_4 (Conv2D)           (None, 53, 53, 60)        45060     \n",
            "                                                                 \n",
            " conv2d_5 (Conv2D)           (None, 50, 50, 30)        28830     \n",
            "                                                                 \n",
            " conv2d_6 (Conv2D)           (None, 47, 47, 30)        14430     \n",
            "                                                                 \n",
            " max_pooling2d_1 (MaxPoolin  (None, 23, 23, 30)        0         \n",
            " g2D)                                                            \n",
            "                                                                 \n",
            " dropout_1 (Dropout)         (None, 23, 23, 30)        0         \n",
            "                                                                 \n",
            " conv2d_7 (Conv2D)           (None, 20, 20, 60)        28860     \n",
            "                                                                 \n",
            " max_pooling2d_2 (MaxPoolin  (None, 10, 10, 60)        0         \n",
            " g2D)                                                            \n",
            "                                                                 \n",
            " conv2d_8 (Conv2D)           (None, 8, 8, 30)          16230     \n",
            "                                                                 \n",
            " conv2d_9 (Conv2D)           (None, 6, 6, 30)          8130      \n",
            "                                                                 \n",
            " max_pooling2d_3 (MaxPoolin  (None, 3, 3, 30)          0         \n",
            " g2D)                                                            \n",
            "                                                                 \n",
            " dropout_2 (Dropout)         (None, 3, 3, 30)          0         \n",
            "                                                                 \n",
            " flatten (Flatten)           (None, 270)               0         \n",
            "                                                                 \n",
            " dense (Dense)               (None, 5000)              1355000   \n",
            "                                                                 \n",
            " dropout_3 (Dropout)         (None, 5000)              0         \n",
            "                                                                 \n",
            " dense_1 (Dense)             (None, 4)                 20004     \n",
            "                                                                 \n",
            "=================================================================\n",
            "Total params: 1651424 (6.30 MB)\n",
            "Trainable params: 1651424 (6.30 MB)\n",
            "Non-trainable params: 0 (0.00 Byte)\n",
            "_________________________________________________________________\n"
          ]
        }
      ]
    },
    {
      "cell_type": "code",
      "source": [
        "def simple_model():\n",
        "    model = Sequential()\n",
        "    model.add(Conv2D(32, (3, 3), activation='relu', input_shape=(image_size[0], image_size[1], 1)))\n",
        "    model.add(MaxPooling2D(pool_size=(2, 2)))\n",
        "    model.add(Conv2D(64, (3, 3), activation='relu'))\n",
        "    model.add(MaxPooling2D(pool_size=(2, 2)))\n",
        "    model.add(Flatten())\n",
        "    model.add(Dense(128, activation='relu'))\n",
        "    model.add(Dense(noOfclasses, activation='softmax'))\n",
        "    model.compile(optimizer='adam', loss='categorical_crossentropy', metrics=['accuracy'])\n",
        "    return model\n",
        "\n",
        "# Create the simple model\n",
        "simple_cnn_model = simple_model()\n"
      ],
      "metadata": {
        "id": "vKEw2-8MW43b"
      },
      "execution_count": 38,
      "outputs": []
    },
    {
      "cell_type": "code",
      "source": [
        "simple_cnn_model.summary()"
      ],
      "metadata": {
        "colab": {
          "base_uri": "https://localhost:8080/"
        },
        "id": "pK-W6G9zW60s",
        "outputId": "aa348744-a080-4307-d0bb-87a2748df4dc"
      },
      "execution_count": 39,
      "outputs": [
        {
          "output_type": "stream",
          "name": "stdout",
          "text": [
            "Model: \"sequential_1\"\n",
            "_________________________________________________________________\n",
            " Layer (type)                Output Shape              Param #   \n",
            "=================================================================\n",
            " conv2d_10 (Conv2D)          (None, 126, 126, 32)      320       \n",
            "                                                                 \n",
            " max_pooling2d_4 (MaxPoolin  (None, 63, 63, 32)        0         \n",
            " g2D)                                                            \n",
            "                                                                 \n",
            " conv2d_11 (Conv2D)          (None, 61, 61, 64)        18496     \n",
            "                                                                 \n",
            " max_pooling2d_5 (MaxPoolin  (None, 30, 30, 64)        0         \n",
            " g2D)                                                            \n",
            "                                                                 \n",
            " flatten_1 (Flatten)         (None, 57600)             0         \n",
            "                                                                 \n",
            " dense_2 (Dense)             (None, 128)               7372928   \n",
            "                                                                 \n",
            " dense_3 (Dense)             (None, 4)                 516       \n",
            "                                                                 \n",
            "=================================================================\n",
            "Total params: 7392260 (28.20 MB)\n",
            "Trainable params: 7392260 (28.20 MB)\n",
            "Non-trainable params: 0 (0.00 Byte)\n",
            "_________________________________________________________________\n"
          ]
        }
      ]
    },
    {
      "cell_type": "code",
      "source": [
        "def improved_model():\n",
        "    model = Sequential()\n",
        "    model.add(Conv2D(64, (3, 3), activation='relu', input_shape=(image_size[0], image_size[1], 1)))\n",
        "    model.add(MaxPooling2D(pool_size=(2, 2)))\n",
        "    model.add(Conv2D(128, (3, 3), activation='relu'))\n",
        "    model.add(MaxPooling2D(pool_size=(2, 2)))\n",
        "    model.add(Flatten())\n",
        "    model.add(Dense(256, activation='relu'))\n",
        "    model.add(Dropout(0.5))  # Add dropout to reduce overfitting\n",
        "    model.add(Dense(128, activation='relu'))\n",
        "    model.add(Dense(noOfclasses, activation='softmax'))\n",
        "    model.compile(optimizer='adam', loss='categorical_crossentropy', metrics=['accuracy'])\n",
        "    return model\n",
        "\n",
        "# Create the improved model\n",
        "improved_cnn_model = improved_model()\n",
        "\n",
        "\n"
      ],
      "metadata": {
        "id": "y-lobccPlsTj"
      },
      "execution_count": 40,
      "outputs": []
    },
    {
      "cell_type": "code",
      "source": [
        "improved_cnn_model.summary()"
      ],
      "metadata": {
        "colab": {
          "base_uri": "https://localhost:8080/"
        },
        "id": "wzAx6mkLltfi",
        "outputId": "f5e9ed7c-aeba-418b-eb62-c93fcc1fb339"
      },
      "execution_count": 41,
      "outputs": [
        {
          "output_type": "stream",
          "name": "stdout",
          "text": [
            "Model: \"sequential_2\"\n",
            "_________________________________________________________________\n",
            " Layer (type)                Output Shape              Param #   \n",
            "=================================================================\n",
            " conv2d_12 (Conv2D)          (None, 126, 126, 64)      640       \n",
            "                                                                 \n",
            " max_pooling2d_6 (MaxPoolin  (None, 63, 63, 64)        0         \n",
            " g2D)                                                            \n",
            "                                                                 \n",
            " conv2d_13 (Conv2D)          (None, 61, 61, 128)       73856     \n",
            "                                                                 \n",
            " max_pooling2d_7 (MaxPoolin  (None, 30, 30, 128)       0         \n",
            " g2D)                                                            \n",
            "                                                                 \n",
            " flatten_2 (Flatten)         (None, 115200)            0         \n",
            "                                                                 \n",
            " dense_4 (Dense)             (None, 256)               29491456  \n",
            "                                                                 \n",
            " dropout_4 (Dropout)         (None, 256)               0         \n",
            "                                                                 \n",
            " dense_5 (Dense)             (None, 128)               32896     \n",
            "                                                                 \n",
            " dense_6 (Dense)             (None, 4)                 516       \n",
            "                                                                 \n",
            "=================================================================\n",
            "Total params: 29599364 (112.91 MB)\n",
            "Trainable params: 29599364 (112.91 MB)\n",
            "Non-trainable params: 0 (0.00 Byte)\n",
            "_________________________________________________________________\n"
          ]
        }
      ]
    },
    {
      "cell_type": "code",
      "source": [
        "os.environ[\"CUDA_VISIBLE_DEVICES\"]=\"0\""
      ],
      "metadata": {
        "id": "oZZzF9R_0Lkm"
      },
      "execution_count": null,
      "outputs": []
    },
    {
      "cell_type": "code",
      "source": [
        "history = simple_cnn_model.fit(X_train,Y_trainRosHot,epochs=30,validation_data =(X_validation,y_validation) ,batch_size=256,\n",
        "                    shuffle=True,\n",
        "                    max_queue_size=20,\n",
        "                    use_multiprocessing=True,\n",
        "                    workers=1,\n",
        "                   callbacks=[CustomCallback(fraction=0.9)])"
      ],
      "metadata": {
        "colab": {
          "base_uri": "https://localhost:8080/",
          "height": 1000
        },
        "id": "tK1KTYRKYefy",
        "outputId": "6da086c1-8b15-4464-c077-ec0df37d05bd"
      },
      "execution_count": null,
      "outputs": [
        {
          "output_type": "stream",
          "name": "stdout",
          "text": [
            "Epoch 1/30\n",
            "9/9 [==============================] - 60s 7s/step - loss: 318.9566 - accuracy: 0.2565 - val_loss: 6.3179 - val_accuracy: 0.2500\n",
            "Epoch 2/30\n",
            "9/9 [==============================] - 53s 6s/step - loss: 2.7431 - accuracy: 0.2906 - val_loss: 1.7363 - val_accuracy: 0.2500\n",
            "Epoch 3/30\n",
            "9/9 [==============================] - 56s 6s/step - loss: 1.3629 - accuracy: 0.3432 - val_loss: 1.4597 - val_accuracy: 0.2500\n",
            "Epoch 4/30\n",
            "9/9 [==============================] - 53s 6s/step - loss: 1.3396 - accuracy: 0.3432 - val_loss: 1.4352 - val_accuracy: 0.2500\n",
            "Epoch 5/30\n",
            "9/9 [==============================] - 58s 7s/step - loss: 1.3279 - accuracy: 0.3685 - val_loss: 1.4529 - val_accuracy: 0.2500\n",
            "Epoch 6/30\n",
            "9/9 [==============================] - 52s 6s/step - loss: 1.2865 - accuracy: 0.4340 - val_loss: 1.4473 - val_accuracy: 0.2500\n",
            "Epoch 7/30\n",
            "9/9 [==============================] - 56s 6s/step - loss: 1.1600 - accuracy: 0.5387 - val_loss: 1.5067 - val_accuracy: 0.2500\n",
            "Epoch 8/30\n",
            "9/9 [==============================] - 54s 6s/step - loss: 0.9642 - accuracy: 0.5982 - val_loss: 1.4433 - val_accuracy: 0.3438\n",
            "Epoch 9/30\n",
            "9/9 [==============================] - 52s 6s/step - loss: 0.7315 - accuracy: 0.7228 - val_loss: 1.4473 - val_accuracy: 0.2812\n",
            "Epoch 10/30\n",
            "9/9 [==============================] - 58s 6s/step - loss: 0.5259 - accuracy: 0.8224 - val_loss: 1.4331 - val_accuracy: 0.3750\n",
            "Epoch 11/30\n",
            "9/9 [==============================] - 53s 6s/step - loss: 0.3804 - accuracy: 0.8805 - val_loss: 1.6425 - val_accuracy: 0.4375\n",
            "Epoch 12/30\n",
            "9/9 [==============================] - 53s 6s/step - loss: 0.2581 - accuracy: 0.9220 - val_loss: 1.7913 - val_accuracy: 0.5938\n",
            "Epoch 13/30\n",
            "9/9 [==============================] - 54s 6s/step - loss: 0.1807 - accuracy: 0.9608 - val_loss: 1.8556 - val_accuracy: 0.5312\n",
            "Epoch 14/30\n",
            "9/9 [==============================] - 56s 6s/step - loss: 0.1258 - accuracy: 0.9806 - val_loss: 1.8920 - val_accuracy: 0.5938\n",
            "Epoch 15/30\n",
            "9/9 [==============================] - 55s 6s/step - loss: 0.0944 - accuracy: 0.9908 - val_loss: 1.8701 - val_accuracy: 0.5625\n",
            "Epoch 16/30\n",
            "9/9 [==============================] - 54s 6s/step - loss: 0.0681 - accuracy: 0.9945 - val_loss: 1.9162 - val_accuracy: 0.5625\n",
            "Epoch 17/30\n",
            "9/9 [==============================] - 51s 6s/step - loss: 0.0520 - accuracy: 0.9945 - val_loss: 1.9308 - val_accuracy: 0.5312\n",
            "Epoch 18/30\n",
            "9/9 [==============================] - 54s 6s/step - loss: 0.0408 - accuracy: 0.9977 - val_loss: 2.0276 - val_accuracy: 0.6562\n",
            "Epoch 19/30\n",
            "9/9 [==============================] - 58s 7s/step - loss: 0.0334 - accuracy: 0.9982 - val_loss: 2.0723 - val_accuracy: 0.5938\n",
            "Epoch 20/30\n",
            "9/9 [==============================] - 52s 6s/step - loss: 0.0287 - accuracy: 0.9982 - val_loss: 2.1383 - val_accuracy: 0.5625\n",
            "Epoch 21/30\n",
            "9/9 [==============================] - 54s 6s/step - loss: 0.0250 - accuracy: 0.9991 - val_loss: 2.0867 - val_accuracy: 0.5312\n",
            "Epoch 22/30\n",
            "9/9 [==============================] - 52s 6s/step - loss: 0.0225 - accuracy: 0.9991 - val_loss: 2.1404 - val_accuracy: 0.5938\n",
            "Epoch 23/30\n",
            "9/9 [==============================] - 54s 6s/step - loss: 0.0206 - accuracy: 0.9991 - val_loss: 2.1345 - val_accuracy: 0.5625\n",
            "Epoch 24/30\n",
            "9/9 [==============================] - 58s 7s/step - loss: 0.0188 - accuracy: 0.9991 - val_loss: 2.1819 - val_accuracy: 0.5938\n",
            "Epoch 25/30\n",
            "9/9 [==============================] - 52s 6s/step - loss: 0.0177 - accuracy: 0.9991 - val_loss: 2.1228 - val_accuracy: 0.6250\n",
            "Epoch 26/30\n",
            "9/9 [==============================] - 54s 6s/step - loss: 0.0168 - accuracy: 0.9986 - val_loss: 2.2158 - val_accuracy: 0.5938\n",
            "Epoch 27/30\n",
            "9/9 [==============================] - 52s 6s/step - loss: 0.0159 - accuracy: 0.9991 - val_loss: 2.1645 - val_accuracy: 0.6250\n",
            "Epoch 28/30\n",
            "9/9 [==============================] - 53s 6s/step - loss: 0.0152 - accuracy: 0.9995 - val_loss: 2.1905 - val_accuracy: 0.5938\n",
            "Epoch 29/30\n",
            "9/9 [==============================] - 58s 7s/step - loss: 0.0146 - accuracy: 0.9991 - val_loss: 2.1975 - val_accuracy: 0.6250\n",
            "Epoch 30/30\n",
            "9/9 [==============================] - 53s 6s/step - loss: 0.0141 - accuracy: 0.9995 - val_loss: 2.1976 - val_accuracy: 0.6250\n"
          ]
        },
        {
          "output_type": "display_data",
          "data": {
            "text/plain": [
              "<Figure size 400x300 with 1 Axes>"
            ],
            "image/png": "[encoded data removed]"
          },
          "metadata": {}
        }
      ]
    },
    {
      "cell_type": "code",
      "source": [
        "history = improved_cnn_model.fit(X_train,Y_trainRosHot,epochs=30,validation_data =(X_validation,y_validation) ,batch_size=256,\n",
        "                    shuffle=True,\n",
        "                    max_queue_size=20,\n",
        "                    use_multiprocessing=True,\n",
        "                    workers=1,\n",
        "                   callbacks=[CustomCallback(fraction=0.9)])"
      ],
      "metadata": {
        "colab": {
          "base_uri": "https://localhost:8080/",
          "height": 1000
        },
        "id": "KkiXTe6xl9tL",
        "outputId": "12edfc6e-c155-4fca-dba7-83160651680e"
      },
      "execution_count": null,
      "outputs": [
        {
          "output_type": "stream",
          "name": "stdout",
          "text": [
            "Epoch 1/30\n",
            "9/9 [==============================] - 149s 16s/step - loss: 78.7788 - accuracy: 0.2809 - val_loss: 1.6181 - val_accuracy: 0.2812\n",
            "Epoch 2/30\n",
            "9/9 [==============================] - 141s 16s/step - loss: 1.3808 - accuracy: 0.3321 - val_loss: 1.3828 - val_accuracy: 0.3438\n",
            "Epoch 3/30\n",
            "9/9 [==============================] - 143s 16s/step - loss: 1.2917 - accuracy: 0.4363 - val_loss: 1.4370 - val_accuracy: 0.3438\n",
            "Epoch 4/30\n",
            "9/9 [==============================] - 141s 16s/step - loss: 1.1161 - accuracy: 0.5415 - val_loss: 1.4150 - val_accuracy: 0.3438\n",
            "Epoch 5/30\n",
            "9/9 [==============================] - 143s 16s/step - loss: 0.9162 - accuracy: 0.6370 - val_loss: 1.3530 - val_accuracy: 0.4375\n",
            "Epoch 6/30\n",
            "9/9 [==============================] - 140s 16s/step - loss: 0.7408 - accuracy: 0.7269 - val_loss: 1.4428 - val_accuracy: 0.3750\n",
            "Epoch 7/30\n",
            "9/9 [==============================] - 145s 16s/step - loss: 0.5580 - accuracy: 0.7943 - val_loss: 1.5113 - val_accuracy: 0.3438\n",
            "Epoch 8/30\n",
            "9/9 [==============================] - 143s 16s/step - loss: 0.4507 - accuracy: 0.8455 - val_loss: 1.5831 - val_accuracy: 0.4375\n",
            "Epoch 9/30\n",
            "9/9 [==============================] - 142s 16s/step - loss: 0.3624 - accuracy: 0.8736 - val_loss: 1.6076 - val_accuracy: 0.4062\n",
            "Epoch 10/30\n",
            "9/9 [==============================] - 142s 16s/step - loss: 0.2922 - accuracy: 0.9068 - val_loss: 1.5890 - val_accuracy: 0.3125\n",
            "Epoch 11/30\n",
            "9/9 [==============================] - 143s 16s/step - loss: 0.2206 - accuracy: 0.9414 - val_loss: 1.5330 - val_accuracy: 0.3750\n",
            "Epoch 12/30\n",
            "9/9 [==============================] - 145s 16s/step - loss: 0.1780 - accuracy: 0.9553 - val_loss: 1.7277 - val_accuracy: 0.3750\n",
            "Epoch 13/30\n",
            "9/9 [==============================] - 141s 16s/step - loss: 0.1589 - accuracy: 0.9594 - val_loss: 1.6767 - val_accuracy: 0.4375\n",
            "Epoch 14/30\n",
            "9/9 [==============================] - 141s 16s/step - loss: 0.1416 - accuracy: 0.9649 - val_loss: 1.6437 - val_accuracy: 0.3750\n",
            "Epoch 15/30\n",
            "9/9 [==============================] - 140s 16s/step - loss: 0.1230 - accuracy: 0.9732 - val_loss: 1.8478 - val_accuracy: 0.3750\n",
            "Epoch 16/30\n",
            "9/9 [==============================] - 142s 16s/step - loss: 0.0997 - accuracy: 0.9783 - val_loss: 1.9425 - val_accuracy: 0.4062\n",
            "Epoch 17/30\n",
            "9/9 [==============================] - 141s 16s/step - loss: 0.0928 - accuracy: 0.9783 - val_loss: 1.9665 - val_accuracy: 0.3750\n",
            "Epoch 18/30\n",
            "9/9 [==============================] - 142s 16s/step - loss: 0.0801 - accuracy: 0.9852 - val_loss: 1.9301 - val_accuracy: 0.3750\n",
            "Epoch 19/30\n",
            "9/9 [==============================] - 140s 16s/step - loss: 0.0691 - accuracy: 0.9875 - val_loss: 2.0522 - val_accuracy: 0.4062\n",
            "Epoch 20/30\n",
            "9/9 [==============================] - 143s 16s/step - loss: 0.0618 - accuracy: 0.9903 - val_loss: 1.9757 - val_accuracy: 0.4062\n",
            "Epoch 21/30\n",
            "9/9 [==============================] - 141s 16s/step - loss: 0.0571 - accuracy: 0.9899 - val_loss: 2.0667 - val_accuracy: 0.4375\n",
            "Epoch 22/30\n",
            "9/9 [==============================] - 144s 16s/step - loss: 0.0551 - accuracy: 0.9889 - val_loss: 2.0570 - val_accuracy: 0.4062\n",
            "Epoch 23/30\n",
            "9/9 [==============================] - 140s 16s/step - loss: 0.0486 - accuracy: 0.9935 - val_loss: 2.0343 - val_accuracy: 0.3750\n",
            "Epoch 24/30\n",
            "9/9 [==============================] - 136s 15s/step - loss: 0.0479 - accuracy: 0.9912 - val_loss: 2.0996 - val_accuracy: 0.4062\n",
            "Epoch 25/30\n",
            "9/9 [==============================] - 140s 16s/step - loss: 0.0449 - accuracy: 0.9935 - val_loss: 2.0450 - val_accuracy: 0.3438\n",
            "Epoch 26/30\n",
            "9/9 [==============================] - 163s 18s/step - loss: 0.0454 - accuracy: 0.9926 - val_loss: 2.0873 - val_accuracy: 0.4062\n",
            "Epoch 27/30\n",
            "9/9 [==============================] - 139s 15s/step - loss: 0.0401 - accuracy: 0.9949 - val_loss: 2.1442 - val_accuracy: 0.4375\n",
            "Epoch 28/30\n",
            "9/9 [==============================] - 139s 15s/step - loss: 0.0404 - accuracy: 0.9940 - val_loss: 2.0852 - val_accuracy: 0.4375\n",
            "Epoch 29/30\n",
            "9/9 [==============================] - 144s 16s/step - loss: 0.0413 - accuracy: 0.9935 - val_loss: 2.1288 - val_accuracy: 0.4375\n",
            "Epoch 30/30\n",
            "9/9 [==============================] - 139s 15s/step - loss: 0.0338 - accuracy: 0.9958 - val_loss: 2.1912 - val_accuracy: 0.3750\n"
          ]
        },
        {
          "output_type": "display_data",
          "data": {
            "text/plain": [
              "<Figure size 400x300 with 1 Axes>"
            ],
            "image/png": "[encoded data removed]"
          },
          "metadata": {}
        }
      ]
    },
    {
      "cell_type": "code",
      "source": [
        "plt.figure(1)\n",
        "plt.plot(history.history['loss'])\n",
        "plt.plot(history.history['val_loss'])\n",
        "plt.legend(['training','validation'])\n",
        "plt.title('Loss')\n",
        "plt.xlabel('epoch')\n",
        "plt.figure(2)\n",
        "plt.plot(history.history['accuracy'])\n",
        "plt.plot(history.history['val_accuracy'])\n",
        "plt.legend(['training','validation'])\n",
        "plt.title('Accuracy')\n",
        "plt.xlabel('epoch')\n",
        "plt.show()"
      ],
      "metadata": {
        "id": "1qiidXja0O2W",
        "colab": {
          "base_uri": "https://localhost:8080/",
          "height": 927
        },
        "outputId": "2a4db26b-35a3-4db3-f2b2-c35788abb87c"
      },
      "execution_count": null,
      "outputs": [
        {
          "output_type": "display_data",
          "data": {
            "text/plain": [
              "<Figure size 640x480 with 1 Axes>"
            ],
            "image/png": "[encoded data removed]"
          },
          "metadata": {}
        },
        {
          "output_type": "display_data",
          "data": {
            "text/plain": [
              "<Figure size 640x480 with 1 Axes>"
            ],
            "image/png": "[encoded data removed]"
          },
          "metadata": {}
        }
      ]
    },
    {
      "cell_type": "code",
      "source": [
        "history = model.fit(X_train,Y_trainRosHot,epochs=20,validation_data =(X_validation,y_validation) ,batch_size=256,\n",
        "                    shuffle=True,\n",
        "                    max_queue_size=20,\n",
        "                    use_multiprocessing=True,\n",
        "                    workers=1,\n",
        "                   callbacks=[CustomCallback(fraction=0.9)])"
      ],
      "metadata": {
        "colab": {
          "base_uri": "https://localhost:8080/",
          "height": 1000
        },
        "id": "5YQKHHHSfBWu",
        "outputId": "86ecb6a5-8842-4fed-fbf9-1f838a25a760"
      },
      "execution_count": 42,
      "outputs": [
        {
          "output_type": "stream",
          "name": "stdout",
          "text": [
            "Epoch 1/20\n",
            "9/9 [==============================] - 979s 107s/step - loss: 1.4446 - accuracy: 0.2620 - val_loss: 1.3809 - val_accuracy: 0.2812\n",
            "Epoch 2/20\n",
            "9/9 [==============================] - 921s 101s/step - loss: 1.3632 - accuracy: 0.2984 - val_loss: 1.3544 - val_accuracy: 0.5000\n",
            "Epoch 3/20\n",
            "9/9 [==============================] - 911s 101s/step - loss: 1.3295 - accuracy: 0.3649 - val_loss: 1.2998 - val_accuracy: 0.4375\n",
            "Epoch 4/20\n",
            "9/9 [==============================] - 904s 100s/step - loss: 1.2335 - accuracy: 0.4340 - val_loss: 0.9803 - val_accuracy: 0.5625\n",
            "Epoch 5/20\n",
            "9/9 [==============================] - 915s 101s/step - loss: 1.1379 - accuracy: 0.5023 - val_loss: 0.9676 - val_accuracy: 0.7188\n",
            "Epoch 6/20\n",
            "9/9 [==============================] - 919s 101s/step - loss: 1.0067 - accuracy: 0.5816 - val_loss: 0.7997 - val_accuracy: 0.6562\n",
            "Epoch 7/20\n",
            "9/9 [==============================] - 914s 101s/step - loss: 0.9171 - accuracy: 0.5996 - val_loss: 0.8094 - val_accuracy: 0.7188\n",
            "Epoch 8/20\n",
            "9/9 [==============================] - 954s 106s/step - loss: 0.8130 - accuracy: 0.6679 - val_loss: 0.8204 - val_accuracy: 0.5625\n",
            "Epoch 9/20\n",
            "9/9 [==============================] - 909s 101s/step - loss: 0.7688 - accuracy: 0.6804 - val_loss: 0.6821 - val_accuracy: 0.7500\n",
            "Epoch 10/20\n",
            "9/9 [==============================] - 901s 99s/step - loss: 0.7375 - accuracy: 0.7057 - val_loss: 0.6469 - val_accuracy: 0.7812\n",
            "Epoch 11/20\n",
            "9/9 [==============================] - 909s 100s/step - loss: 0.7049 - accuracy: 0.7186 - val_loss: 0.6713 - val_accuracy: 0.7188\n",
            "Epoch 12/20\n",
            "9/9 [==============================] - 904s 100s/step - loss: 0.6330 - accuracy: 0.7634 - val_loss: 0.6177 - val_accuracy: 0.7188\n",
            "Epoch 13/20\n",
            "9/9 [==============================] - 903s 100s/step - loss: 0.5972 - accuracy: 0.7740 - val_loss: 0.6301 - val_accuracy: 0.7812\n",
            "Epoch 14/20\n",
            "9/9 [==============================] - 899s 99s/step - loss: 0.5649 - accuracy: 0.7869 - val_loss: 0.5822 - val_accuracy: 0.7812\n",
            "Epoch 15/20\n",
            "9/9 [==============================] - 900s 99s/step - loss: 0.5593 - accuracy: 0.7777 - val_loss: 0.6490 - val_accuracy: 0.7500\n",
            "Epoch 16/20\n",
            "9/9 [==============================] - 900s 99s/step - loss: 0.5227 - accuracy: 0.8012 - val_loss: 0.7091 - val_accuracy: 0.7188\n",
            "Epoch 17/20\n",
            "9/9 [==============================] - 902s 99s/step - loss: 0.5128 - accuracy: 0.8077 - val_loss: 0.5938 - val_accuracy: 0.8125\n",
            "Epoch 18/20\n",
            "9/9 [==============================] - 897s 99s/step - loss: 0.4974 - accuracy: 0.8137 - val_loss: 0.6232 - val_accuracy: 0.7812\n",
            "Epoch 19/20\n",
            "9/9 [==============================] - 898s 99s/step - loss: 0.4965 - accuracy: 0.8206 - val_loss: 0.7299 - val_accuracy: 0.7188\n",
            "Epoch 20/20\n",
            "9/9 [==============================] - 896s 99s/step - loss: 0.4851 - accuracy: 0.8252 - val_loss: 0.7284 - val_accuracy: 0.7500\n"
          ]
        },
        {
          "output_type": "display_data",
          "data": {
            "text/plain": [
              "<Figure size 400x300 with 1 Axes>"
            ],
            "image/png": "[encoded data removed]"
          },
          "metadata": {}
        }
      ]
    },
    {
      "cell_type": "code",
      "source": [
        "plt.figure(3)\n",
        "plt.plot(history.history['loss'])\n",
        "plt.plot(history.history['val_loss'])\n",
        "plt.legend(['training','validation'])\n",
        "plt.title('Loss')\n",
        "plt.xlabel('epoch')\n",
        "plt.figure(4)\n",
        "plt.plot(history.history['accuracy'])\n",
        "plt.plot(history.history['val_accuracy'])\n",
        "plt.legend(['training','validation'])\n",
        "plt.title('Accuracy')\n",
        "plt.xlabel('epoch')\n",
        "plt.show()"
      ],
      "metadata": {
        "id": "4NEXdUJ78rwn",
        "outputId": "7d78efab-f3d7-416c-e2ae-0ef18d7a1d7e",
        "colab": {
          "base_uri": "https://localhost:8080/",
          "height": 927
        }
      },
      "execution_count": 43,
      "outputs": [
        {
          "output_type": "display_data",
          "data": {
            "text/plain": [
              "<Figure size 640x480 with 1 Axes>"
            ],
            "image/png": "[encoded data removed]"
          },
          "metadata": {}
        },
        {
          "output_type": "display_data",
          "data": {
            "text/plain": [
              "<Figure size 640x480 with 1 Axes>"
            ],
            "image/png": "[encoded data removed]"
          },
          "metadata": {}
        }
      ]
    },
    {
      "cell_type": "code",
      "source": [
        "score = model.evaluate(X_test,y_test,verbose=0)\n",
        "print('Test Score = ',score[0])\n",
        "print('Test Accuracy = ',score[1])"
      ],
      "metadata": {
        "id": "lKAwmzvFlZbb",
        "colab": {
          "base_uri": "https://localhost:8080/"
        },
        "outputId": "1171bf8b-10e2-47fd-9d14-0348e6d1bba6"
      },
      "execution_count": 44,
      "outputs": [
        {
          "output_type": "stream",
          "name": "stdout",
          "text": [
            "Test Score =  0.5700585842132568\n",
            "Test Accuracy =  0.7778925895690918\n"
          ]
        }
      ]
    },
    {
      "cell_type": "code",
      "source": [
        "from sklearn.svm import SVC\n",
        "from sklearn.metrics import accuracy_score\n",
        "from sklearn.preprocessing import LabelBinarizer\n",
        "\n",
        "# Preprocess data for SVM\n",
        "X_train_svm = X_train.reshape(X_train.shape[0], -1)\n",
        "X_test_svm = X_test.reshape(X_test.shape[0], -1)\n",
        "\n",
        "# Scale pixel values\n",
        "X_train_svm = X_train_svm / 255.0\n",
        "X_test_svm = X_test_svm / 255.0\n",
        "\n",
        "# Initialize and train the SVM model\n",
        "svm_model = SVC(kernel='linear', C=1.0)\n",
        "svm_model.fit(X_train_svm, Y_trainRos)\n",
        "\n",
        "# Make predictions\n",
        "y_pred = svm_model.predict(X_test_svm)\n",
        "\n",
        "# Convert y_pred to one-hot encoded format\n",
        "lb = LabelBinarizer()\n",
        "y_pred_one_hot = lb.fit_transform(y_pred)\n",
        "\n",
        "# Evaluate the model using one-hot encoded y_pred\n",
        "accuracy = accuracy_score(y_test, y_pred_one_hot)\n",
        "print('SVM Accuracy:', accuracy)\n"
      ],
      "metadata": {
        "id": "JK5oxkiv0Wb_",
        "colab": {
          "base_uri": "https://localhost:8080/"
        },
        "outputId": "4800d4d0-3766-4f95-a86c-669511e4ef4a"
      },
      "execution_count": 45,
      "outputs": [
        {
          "output_type": "stream",
          "name": "stdout",
          "text": [
            "SVM Accuracy: 0.45764462809917356\n"
          ]
        }
      ]
    },
    {
      "cell_type": "code",
      "source": [
        "from sklearn.naive_bayes import MultinomialNB\n",
        "from sklearn.metrics import accuracy_score\n",
        "from sklearn.preprocessing import LabelBinarizer\n",
        "\n",
        "# Preprocess data for Naive Bayes\n",
        "X_train_nb = X_train.reshape(X_train.shape[0], -1)\n",
        "X_test_nb = X_test.reshape(X_test.shape[0], -1)\n",
        "\n",
        "# Ensure pixel values are non-negative\n",
        "X_train_nb = X_train_nb.astype('float32')\n",
        "X_test_nb = X_test_nb.astype('float32')\n",
        "\n",
        "# Initialize and train the Naive Bayes model\n",
        "nb_model = MultinomialNB()\n",
        "nb_model.fit(X_train_nb, Y_trainRos)\n",
        "\n",
        "# Make predictions\n",
        "y_pred = nb_model.predict(X_test_nb)\n",
        "\n",
        "# Convert y_pred to one-hot encoded format\n",
        "lb = LabelBinarizer()\n",
        "y_pred_one_hot = lb.fit_transform(y_pred)\n",
        "\n",
        "# Evaluate the model using one-hot encoded y_pred\n",
        "accuracy = accuracy_score(y_test, y_pred_one_hot)\n",
        "print('Naive Bayes Accuracy:', accuracy)\n"
      ],
      "metadata": {
        "colab": {
          "base_uri": "https://localhost:8080/"
        },
        "id": "ZRsxGKeaREwJ",
        "outputId": "70018e87-d85c-4afb-cd6e-84cffcccd022"
      },
      "execution_count": 46,
      "outputs": [
        {
          "output_type": "stream",
          "name": "stdout",
          "text": [
            "Naive Bayes Accuracy: 0.29338842975206614\n"
          ]
        }
      ]
    },
    {
      "cell_type": "code",
      "source": [
        "from sklearn.tree import DecisionTreeClassifier\n",
        "from sklearn.metrics import accuracy_score\n",
        "from sklearn.preprocessing import LabelBinarizer\n",
        "\n",
        "# Preprocess data for Decision Tree\n",
        "X_train_dt = X_train.reshape(X_train.shape[0], -1)\n",
        "X_test_dt = X_test.reshape(X_test.shape[0], -1)\n",
        "\n",
        "# Initialize and train the Decision Tree model\n",
        "dt_model = DecisionTreeClassifier(random_state=0)\n",
        "dt_model.fit(X_train_dt, Y_trainRos)\n",
        "\n",
        "# Make predictions\n",
        "y_pred = dt_model.predict(X_test_dt)\n",
        "\n",
        "# Convert y_pred to one-hot encoded format\n",
        "lb = LabelBinarizer()\n",
        "y_pred_one_hot = lb.fit_transform(y_pred)\n",
        "\n",
        "# Evaluate the model using one-hot encoded y_pred\n",
        "accuracy = accuracy_score(y_test, y_pred_one_hot)\n",
        "print('Decision Tree Accuracy:', accuracy)\n"
      ],
      "metadata": {
        "colab": {
          "base_uri": "https://localhost:8080/"
        },
        "id": "o6B6ThzREiKX",
        "outputId": "5115a7de-3a9e-47cd-eee1-2777d00e52fb"
      },
      "execution_count": 47,
      "outputs": [
        {
          "output_type": "stream",
          "name": "stdout",
          "text": [
            "Decision Tree Accuracy: 0.381198347107438\n"
          ]
        }
      ]
    }
  ]
}